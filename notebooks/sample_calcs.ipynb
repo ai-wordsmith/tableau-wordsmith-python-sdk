{
 "cells": [
  {
   "cell_type": "code",
   "execution_count": 3,
   "metadata": {},
   "outputs": [],
   "source": [
    "import pickle\n",
    "with open('../settings.p', 'rb') as f:\n",
    "    settings = pickle.load(f)\n",
    "filters = settings[0]\n",
    "marks = settings[1]\n",
    "parameters = settings[2]"
   ]
  },
  {
   "cell_type": "code",
   "execution_count": 13,
   "metadata": {},
   "outputs": [
    {
     "name": "stdout",
     "output_type": "stream",
     "text": [
      "{'top_3_sales_values': [36608, 35601, 36116], 'top_3_sales_states': ['Alabama', 'Alabama', 'Alabama']}\n"
     ]
    }
   ],
   "source": [
    "### Wordsmith Calcs Examples\n",
    "# Start off with an empty Python dictionary\n",
    "output = {}\n",
    "\n",
    "# Extract some marks and combine in a zip\n",
    "numbers = marks['Sale Map']['data'][0]\n",
    "states = marks['Sale Map']['data'][1]\n",
    "improvements = marks['Sale Map']['data'][2]\n",
    "sales_data = [z for z in zip(numbers, states, improvements)]\n",
    "\n",
    "# Sort the list of lists and ta\n",
    "top_3_sales = sorted(sales_data, key=lambda t: t[1])[:3]\n",
    "output['top_3_sales_values'] = [s[0] for s in top_3_sales]\n",
    "output['top_3_sales_states']  = [s[1] for s in top_3_sales]\n",
    "print(output)"
   ]
  }
 ],
 "metadata": {
  "kernelspec": {
   "display_name": "Python 3",
   "language": "python",
   "name": "python3"
  },
  "language_info": {
   "codemirror_mode": {
    "name": "ipython",
    "version": 3
   },
   "file_extension": ".py",
   "mimetype": "text/x-python",
   "name": "python",
   "nbconvert_exporter": "python",
   "pygments_lexer": "ipython3",
   "version": "3.6.3"
  }
 },
 "nbformat": 4,
 "nbformat_minor": 2
}
